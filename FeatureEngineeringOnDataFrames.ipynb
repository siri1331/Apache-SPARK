{
 "cells": [
  {
   "cell_type": "markdown",
   "metadata": {},
   "source": [
    "\n",
    "In the notebook, we will work with a cricket commentary data.\n"
   ]
  },
  {
   "cell_type": "code",
   "execution_count": 1,
   "metadata": {},
   "outputs": [],
   "source": [
    "from pyspark.context import SparkContext\n",
    "from pyspark.sql import SparkSession\n",
    "import pyspark.sql.types as tp\n",
    "from pyspark.sql import functions as F"
   ]
  },
  {
   "cell_type": "code",
   "execution_count": 2,
   "metadata": {},
   "outputs": [],
   "source": [
    "sc = SparkContext()"
   ]
  },
  {
   "cell_type": "code",
   "execution_count": 3,
   "metadata": {},
   "outputs": [],
   "source": [
    "spark = SparkSession.builder.getOrCreate()"
   ]
  },
  {
   "cell_type": "markdown",
   "metadata": {},
   "source": [
    "---\n",
    "\n",
    "#### `Read the CSV File`\n",
    "\n",
    "---"
   ]
  },
  {
   "cell_type": "code",
   "execution_count": 4,
   "metadata": {},
   "outputs": [],
   "source": [
    "data = spark.read.csv(\"dataset/ind-ban-comment.csv\",inferSchema=True, header=True)"
   ]
  },
  {
   "cell_type": "code",
   "execution_count": 5,
   "metadata": {},
   "outputs": [
    {
     "name": "stdout",
     "output_type": "stream",
     "text": [
      "root\n",
      " |-- _c0: integer (nullable = true)\n",
      " |-- Batsman: integer (nullable = true)\n",
      " |-- Batsman_Name: string (nullable = true)\n",
      " |-- Bowler: integer (nullable = true)\n",
      " |-- Bowler_Name: string (nullable = true)\n",
      " |-- Commentary: string (nullable = true)\n",
      " |-- Detail: string (nullable = true)\n",
      " |-- Dismissed: double (nullable = true)\n",
      " |-- Id: integer (nullable = true)\n",
      " |-- Isball: boolean (nullable = true)\n",
      " |-- Isboundary: double (nullable = true)\n",
      " |-- Iswicket: double (nullable = true)\n",
      " |-- Over: double (nullable = true)\n",
      " |-- Runs: integer (nullable = true)\n",
      " |-- Summary: string (nullable = true)\n",
      " |-- Timestamp: string (nullable = true)\n",
      " |-- ZAD: string (nullable = true)\n",
      "\n"
     ]
    }
   ],
   "source": [
    "## check the schema of the dataframe\n",
    "data.printSchema()\n"
   ]
  },
  {
   "cell_type": "code",
   "execution_count": 6,
   "metadata": {
    "scrolled": true
   },
   "outputs": [
    {
     "name": "stdout",
     "output_type": "stream",
     "text": [
      "+---+-------+-----------------+------+-----------------+--------------------+------+---------+---+------+----------+--------+----+----+-------+-------------------+-------+\n",
      "|_c0|Batsman|     Batsman_Name|Bowler|      Bowler_Name|          Commentary|Detail|Dismissed| Id|Isball|Isboundary|Iswicket|Over|Runs|Summary|          Timestamp|    ZAD|\n",
      "+---+-------+-----------------+------+-----------------+--------------------+------+---------+---+------+----------+--------+----+----+-------+-------------------+-------+\n",
      "|  0|  28994|   Mohammed Shami| 63881|Mustafizur Rahman|OUT! Bowled! 5-fe...|     W|  28994.0|346|  true|      null|     1.0|49.6|   0|   null|2019-07-02 13:18:47|   null|\n",
      "|  1|   5132|Bhuvneshwar Kumar| 63881|Mustafizur Rahman|WIDE AND RUN OUT!...|  W+wd|   5132.0|344|  true|      null|     1.0|49.6|   1|   null|2019-07-02 13:17:28|   null|\n",
      "|  2|  28994|   Mohammed Shami| 63881|Mustafizur Rahman|Back of a length ...|  null|     null|343|  true|      null|    null|49.5|   1|   null|2019-07-02 13:16:03|8,349,3|\n",
      "|  3|   5132|Bhuvneshwar Kumar| 63881|Mustafizur Rahman|Just 1 run off th...|  null|     null|342|  true|      null|    null|49.4|   1|   null|2019-07-02 13:15:17|7,279,2|\n",
      "+---+-------+-----------------+------+-----------------+--------------------+------+---------+---+------+----------+--------+----+----+-------+-------------------+-------+\n",
      "only showing top 4 rows\n",
      "\n"
     ]
    }
   ],
   "source": [
    "# VIEW THE TOP 4 ROWS OF THE DATA USING THE SHOW FUNCTION\n",
    "\n",
    "data.show(n=4)\n"
   ]
  },
  {
   "cell_type": "markdown",
   "metadata": {},
   "source": [
    "---\n",
    "\n",
    "#### `View only the following columns of the dataframe`\n",
    "\n",
    "    - Batsman_Name\n",
    "    - Bowler_Name\n",
    "    - Dismissed\n",
    "    - Isboundary\n",
    "    - Runs\n",
    "\n",
    "---"
   ]
  },
  {
   "cell_type": "code",
   "execution_count": 7,
   "metadata": {
    "scrolled": true
   },
   "outputs": [
    {
     "name": "stdout",
     "output_type": "stream",
     "text": [
      "+-----------------+------------------+---------+----------+----+\n",
      "|     Batsman_Name|       Bowler_Name|Dismissed|Isboundary|Runs|\n",
      "+-----------------+------------------+---------+----------+----+\n",
      "|   Mohammed Shami| Mustafizur Rahman|  28994.0|      null|   0|\n",
      "|Bhuvneshwar Kumar| Mustafizur Rahman|   5132.0|      null|   1|\n",
      "|   Mohammed Shami| Mustafizur Rahman|     null|      null|   1|\n",
      "|Bhuvneshwar Kumar| Mustafizur Rahman|     null|      null|   1|\n",
      "|         MS Dhoni| Mustafizur Rahman|   3676.0|      null|   0|\n",
      "|         MS Dhoni| Mustafizur Rahman|     null|      null|   0|\n",
      "|         MS Dhoni| Mustafizur Rahman|     null|      null|   0|\n",
      "|         MS Dhoni|Mohammad Saifuddin|     null|      null|   1|\n",
      "|         MS Dhoni|Mohammad Saifuddin|     null|       1.0|   4|\n",
      "|         MS Dhoni|Mohammad Saifuddin|     null|      null|   0|\n",
      "|         MS Dhoni|Mohammad Saifuddin|     null|      null|   0|\n",
      "|         MS Dhoni|Mohammad Saifuddin|     null|       1.0|   4|\n",
      "|         MS Dhoni|Mohammad Saifuddin|     null|      null|   2|\n",
      "|Bhuvneshwar Kumar| Mustafizur Rahman|     null|      null|   0|\n",
      "|         MS Dhoni| Mustafizur Rahman|     null|      null|   1|\n",
      "|         MS Dhoni| Mustafizur Rahman|     null|      null|   0|\n",
      "|Bhuvneshwar Kumar| Mustafizur Rahman|     null|      null|   1|\n",
      "|   Dinesh Karthik| Mustafizur Rahman|   3632.0|      null|   0|\n",
      "|         MS Dhoni| Mustafizur Rahman|     null|      null|   1|\n",
      "|         MS Dhoni|Mohammad Saifuddin|     null|      null|   1|\n",
      "+-----------------+------------------+---------+----------+----+\n",
      "only showing top 20 rows\n",
      "\n"
     ]
    }
   ],
   "source": [
    "\n",
    "select_columns = [\"Batsman_Name\",\"Bowler_Name\",\"Dismissed\",\"Isboundary\",\"Runs\"]\n",
    "data.select(*select_columns).show()"
   ]
  },
  {
   "cell_type": "markdown",
   "metadata": {},
   "source": [
    "---\n",
    "\n",
    "#### Find out the number of runs scored by each batsman\n",
    "\n",
    "---"
   ]
  },
  {
   "cell_type": "code",
   "execution_count": 8,
   "metadata": {},
   "outputs": [],
   "source": [
    "\n",
    "batsman_group = data.groupBy(\"Batsman_Name\")\n",
    "batsman_runs = batsman_group.agg(F.count(\"Runs\").alias(\"Runs_Scored\"))"
   ]
  },
  {
   "cell_type": "code",
   "execution_count": 9,
   "metadata": {
    "scrolled": true
   },
   "outputs": [
    {
     "name": "stdout",
     "output_type": "stream",
     "text": [
      "+------------------+-----------+\n",
      "|      Batsman_Name|Runs_Scored|\n",
      "+------------------+-----------+\n",
      "|      Rohit Sharma|         94|\n",
      "|          KL Rahul|         93|\n",
      "|   Shakib Al Hasan|         75|\n",
      "|      Rishabh Pant|         43|\n",
      "|Mohammad Saifuddin|         42|\n",
      "|     Sabbir Rahman|         40|\n",
      "|     Soumya Sarkar|         39|\n",
      "|          MS Dhoni|         33|\n",
      "|       Tamim Iqbal|         31|\n",
      "|       Virat Kohli|         27|\n",
      "|         Liton Das|         24|\n",
      "|   Mushfiqur Rahim|         23|\n",
      "|     Rubel Hossain|         11|\n",
      "|    Dinesh Karthik|          9|\n",
      "|  Mosaddek Hossain|          7|\n",
      "|  Mashrafe Mortaza|          5|\n",
      "| Bhuvneshwar Kumar|          4|\n",
      "|    Mohammed Shami|          2|\n",
      "|     Hardik Pandya|          2|\n",
      "| Mustafizur Rahman|          1|\n",
      "+------------------+-----------+\n",
      "\n"
     ]
    }
   ],
   "source": [
    "# SHOW THE BATSMAN SCORED BY EACH RUN IN DESCENDING ORDER\n",
    "order_batsman_runs = batsman_runs.orderBy(\"Runs_Scored\",ascending = False)\n",
    "order_batsman_runs.show()"
   ]
  },
  {
   "cell_type": "markdown",
   "metadata": {},
   "source": [
    "---\n",
    "\n",
    "#### Which batsman scored the highest number of boundaries\n",
    "\n",
    "---"
   ]
  },
  {
   "cell_type": "code",
   "execution_count": 10,
   "metadata": {},
   "outputs": [],
   "source": [
    "\n",
    "def filter_nulls(x):\n",
    "    if x is not None:\n",
    "        return int(x)\n",
    "    else:\n",
    "        return 0\n",
    "    \n",
    "udf_filter = F.udf(f= filter_nulls, returnType = tp.IntegerType())\n",
    "df_bound = data.withColumn(\"Boundary\",udf_filter(data[\"Isboundary\"]))"
   ]
  },
  {
   "cell_type": "code",
   "execution_count": 11,
   "metadata": {},
   "outputs": [
    {
     "data": {
      "text/html": [
       "<table border='1'>\n",
       "<tr><th>Batsman_Name</th><th>Boundaries</th></tr>\n",
       "<tr><td>Rohit Sharma</td><td>12</td></tr>\n",
       "</table>\n"
      ],
      "text/plain": [
       "+------------+----------+\n",
       "|Batsman_Name|Boundaries|\n",
       "+------------+----------+\n",
       "|Rohit Sharma|        12|\n",
       "+------------+----------+"
      ]
     },
     "execution_count": 11,
     "metadata": {},
     "output_type": "execute_result"
    }
   ],
   "source": [
    "df_bound.groupBy(\"Batsman_Name\").agg(F.sum(\"Boundary\").alias(\"Boundaries\")).orderBy(\"Boundaries\",ascending = False).limit(1)"
   ]
  },
  {
   "cell_type": "markdown",
   "metadata": {},
   "source": [
    "---\n",
    "\n",
    "**Define a `udf` function that will create a new column on the basis of following condition**\n",
    "\n",
    "If the value of `Runs` is less than 2, then assign `A`, if value is between `3 to 5` then assign `B` else assign `C`\n",
    "\n",
    "\n",
    "---"
   ]
  },
  {
   "cell_type": "code",
   "execution_count": 12,
   "metadata": {},
   "outputs": [],
   "source": [
    "\n",
    "def runs_condition(x):\n",
    "    if x < 2:\n",
    "        return 'A'\n",
    "    elif x >= 3 and x<= 5:\n",
    "        return 'B'\n",
    "    else:\n",
    "        return 'C'"
   ]
  },
  {
   "cell_type": "code",
   "execution_count": 13,
   "metadata": {},
   "outputs": [],
   "source": [
    "udf_runs = F.udf(f = runs_condition, returnType = tp.StringType())\n",
    "\n",
    "df_runs = data.withColumn(\"categoryOfRuns\", udf_runs(data['Runs']))\n"
   ]
  },
  {
   "cell_type": "code",
   "execution_count": 14,
   "metadata": {},
   "outputs": [
    {
     "ename": "NameError",
     "evalue": "name 'final' is not defined",
     "output_type": "error",
     "traceback": [
      "\u001b[0;31m---------------------------------------------------------------------------\u001b[0m",
      "\u001b[0;31mNameError\u001b[0m                                 Traceback (most recent call last)",
      "\u001b[0;32m<ipython-input-14-ba5b8ff94a71>\u001b[0m in \u001b[0;36m<module>\u001b[0;34m\u001b[0m\n\u001b[1;32m      1\u001b[0m \u001b[0mselect_columns\u001b[0m\u001b[0;34m.\u001b[0m\u001b[0mappend\u001b[0m\u001b[0;34m(\u001b[0m\u001b[0;34m\"categoryOfRuns\"\u001b[0m\u001b[0;34m)\u001b[0m\u001b[0;34m\u001b[0m\u001b[0;34m\u001b[0m\u001b[0m\n\u001b[0;32m----> 2\u001b[0;31m \u001b[0mdf_runs\u001b[0m\u001b[0;34m.\u001b[0m\u001b[0mselect\u001b[0m\u001b[0;34m(\u001b[0m\u001b[0;34m*\u001b[0m\u001b[0mfinal\u001b[0m\u001b[0;34m)\u001b[0m\u001b[0;34m.\u001b[0m\u001b[0mshow\u001b[0m\u001b[0;34m(\u001b[0m\u001b[0;34m)\u001b[0m\u001b[0;34m\u001b[0m\u001b[0;34m\u001b[0m\u001b[0m\n\u001b[0m",
      "\u001b[0;31mNameError\u001b[0m: name 'final' is not defined"
     ]
    }
   ],
   "source": [
    "select_columns.append(\"categoryOfRuns\")\n"
   ]
  },
  {
   "cell_type": "code",
   "execution_count": 15,
   "metadata": {},
   "outputs": [
    {
     "name": "stdout",
     "output_type": "stream",
     "text": [
      "+-----------------+------------------+---------+----------+----+--------------+\n",
      "|     Batsman_Name|       Bowler_Name|Dismissed|Isboundary|Runs|categoryOfRuns|\n",
      "+-----------------+------------------+---------+----------+----+--------------+\n",
      "|   Mohammed Shami| Mustafizur Rahman|  28994.0|      null|   0|             A|\n",
      "|Bhuvneshwar Kumar| Mustafizur Rahman|   5132.0|      null|   1|             A|\n",
      "|   Mohammed Shami| Mustafizur Rahman|     null|      null|   1|             A|\n",
      "|Bhuvneshwar Kumar| Mustafizur Rahman|     null|      null|   1|             A|\n",
      "|         MS Dhoni| Mustafizur Rahman|   3676.0|      null|   0|             A|\n",
      "|         MS Dhoni| Mustafizur Rahman|     null|      null|   0|             A|\n",
      "|         MS Dhoni| Mustafizur Rahman|     null|      null|   0|             A|\n",
      "|         MS Dhoni|Mohammad Saifuddin|     null|      null|   1|             A|\n",
      "|         MS Dhoni|Mohammad Saifuddin|     null|       1.0|   4|             B|\n",
      "|         MS Dhoni|Mohammad Saifuddin|     null|      null|   0|             A|\n",
      "|         MS Dhoni|Mohammad Saifuddin|     null|      null|   0|             A|\n",
      "|         MS Dhoni|Mohammad Saifuddin|     null|       1.0|   4|             B|\n",
      "|         MS Dhoni|Mohammad Saifuddin|     null|      null|   2|             C|\n",
      "|Bhuvneshwar Kumar| Mustafizur Rahman|     null|      null|   0|             A|\n",
      "|         MS Dhoni| Mustafizur Rahman|     null|      null|   1|             A|\n",
      "|         MS Dhoni| Mustafizur Rahman|     null|      null|   0|             A|\n",
      "|Bhuvneshwar Kumar| Mustafizur Rahman|     null|      null|   1|             A|\n",
      "|   Dinesh Karthik| Mustafizur Rahman|   3632.0|      null|   0|             A|\n",
      "|         MS Dhoni| Mustafizur Rahman|     null|      null|   1|             A|\n",
      "|         MS Dhoni|Mohammad Saifuddin|     null|      null|   1|             A|\n",
      "+-----------------+------------------+---------+----------+----+--------------+\n",
      "only showing top 20 rows\n",
      "\n"
     ]
    }
   ],
   "source": [
    "df_runs.select(*select_columns).show()"
   ]
  },
  {
   "cell_type": "code",
   "execution_count": null,
   "metadata": {},
   "outputs": [],
   "source": []
  }
 ],
 "metadata": {
  "kernelspec": {
   "display_name": "Pyspark 3",
   "language": "python",
   "name": "pyspark3"
  },
  "language_info": {
   "codemirror_mode": {
    "name": "ipython",
    "version": 3
   },
   "file_extension": ".py",
   "mimetype": "text/x-python",
   "name": "python",
   "nbconvert_exporter": "python",
   "pygments_lexer": "ipython3",
   "version": "3.6.12"
  }
 },
 "nbformat": 4,
 "nbformat_minor": 4
}
