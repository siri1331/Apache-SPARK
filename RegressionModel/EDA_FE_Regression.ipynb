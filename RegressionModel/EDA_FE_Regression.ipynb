{
 "cells": [
  {
   "cell_type": "code",
   "execution_count": 1,
   "id": "dddff2a9",
   "metadata": {},
   "outputs": [],
   "source": [
    "import pyspark.sql.functions as F\n",
    "from pyspark.sql import types as tp\n",
    "from pyspark.sql import SparkSession\n",
    "from pyspark.ml.regression import DecisionTreeRegressor, RandomForestRegressor, LinearRegression\n",
    "from pyspark.ml.tuning import CrossValidator, ParamGridBuilder\n",
    "from pyspark.ml.evaluation import BinaryClassificationEvaluator, RegressionEvaluator\n",
    "from pyspark.ml.feature import StringIndexer, OneHotEncoder, VectorAssembler\n",
    "from pyspark.ml import Pipeline, Transformer"
   ]
  },
  {
   "cell_type": "code",
   "execution_count": 2,
   "id": "1dd4be02",
   "metadata": {},
   "outputs": [
    {
     "data": {
      "text/html": [
       "\n",
       "            <div>\n",
       "                <p><b>SparkSession - in-memory</b></p>\n",
       "                \n",
       "        <div>\n",
       "            <p><b>SparkContext</b></p>\n",
       "\n",
       "            <p><a href=\"http://g01.itversity.com:4044\">Spark UI</a></p>\n",
       "\n",
       "            <dl>\n",
       "              <dt>Version</dt>\n",
       "                <dd><code>v3.1.2</code></dd>\n",
       "              <dt>Master</dt>\n",
       "                <dd><code>yarn</code></dd>\n",
       "              <dt>AppName</dt>\n",
       "                <dd><code>pyspark-shell</code></dd>\n",
       "            </dl>\n",
       "        </div>\n",
       "        \n",
       "            </div>\n",
       "        "
      ],
      "text/plain": [
       "<pyspark.sql.session.SparkSession at 0x7f286d1de358>"
      ]
     },
     "execution_count": 2,
     "metadata": {},
     "output_type": "execute_result"
    }
   ],
   "source": [
    "spark = SparkSession.builder.config(\"spark.sql.shuffle.partitions\", \"200\").config(\"spark.executor.memory\", \"4g\").config(\"master\", \"yarn\").getOrCreate()\n",
    "spark"
   ]
  },
  {
   "cell_type": "code",
   "execution_count": 3,
   "id": "75b5c153",
   "metadata": {},
   "outputs": [],
   "source": [
    "train = spark.read.csv(\"ml/train.csv\",header = True, inferSchema=True)\n",
    "test = spark.read.csv(\"ml/test.csv\",header = True, inferSchema=True)"
   ]
  },
  {
   "cell_type": "code",
   "execution_count": 4,
   "id": "93f04c56",
   "metadata": {},
   "outputs": [
    {
     "name": "stdout",
     "output_type": "stream",
     "text": [
      "root\n",
      " |-- User_ID: integer (nullable = true)\n",
      " |-- Product_ID: string (nullable = true)\n",
      " |-- Gender: string (nullable = true)\n",
      " |-- Age: string (nullable = true)\n",
      " |-- Occupation: integer (nullable = true)\n",
      " |-- City_Category: string (nullable = true)\n",
      " |-- Stay_In_Current_City_Years: string (nullable = true)\n",
      " |-- Marital_Status: integer (nullable = true)\n",
      " |-- Product_Category_1: integer (nullable = true)\n",
      " |-- Product_Category_2: integer (nullable = true)\n",
      " |-- Product_Category_3: integer (nullable = true)\n",
      " |-- Purchase: integer (nullable = true)\n",
      "\n"
     ]
    }
   ],
   "source": [
    "train.printSchema()"
   ]
  },
  {
   "cell_type": "markdown",
   "id": "b55f3fde",
   "metadata": {},
   "source": [
    "## 1. Average Purchase amount?"
   ]
  },
  {
   "cell_type": "code",
   "execution_count": 5,
   "id": "5b1daa4f",
   "metadata": {},
   "outputs": [
    {
     "data": {
      "text/html": [
       "<table border='1'>\n",
       "<tr><th>avg_prchase_Amount</th></tr>\n",
       "<tr><td>9263.969</td></tr>\n",
       "</table>\n"
      ],
      "text/plain": [
       "+------------------+\n",
       "|avg_prchase_Amount|\n",
       "+------------------+\n",
       "|          9263.969|\n",
       "+------------------+"
      ]
     },
     "execution_count": 5,
     "metadata": {},
     "output_type": "execute_result"
    }
   ],
   "source": [
    "train.agg(F.round(F.sum(\"Purchase\")/F.count(\"Purchase\"),3).alias(\"avg_prchase_Amount\"))"
   ]
  },
  {
   "cell_type": "markdown",
   "id": "11eb1d24",
   "metadata": {},
   "source": [
    "## 2. Counting and Removing null values"
   ]
  },
  {
   "cell_type": "code",
   "execution_count": 6,
   "id": "8446832c",
   "metadata": {},
   "outputs": [
    {
     "name": "stdout",
     "output_type": "stream",
     "text": [
      "User_ID 0\n",
      "Product_ID 0\n",
      "Gender 0\n",
      "Age 0\n",
      "Occupation 0\n",
      "City_Category 0\n",
      "Stay_In_Current_City_Years 0\n",
      "Marital_Status 0\n",
      "Product_Category_1 0\n",
      "Product_Category_2 173638\n",
      "Product_Category_3 383247\n",
      "Purchase 0\n"
     ]
    }
   ],
   "source": [
    "for i in train.columns:\n",
    "    count_nulls = train.filter(F.col(i).isNull()).count()\n",
    "    print(i,count_nulls)"
   ]
  },
  {
   "cell_type": "code",
   "execution_count": 7,
   "id": "e85f811b",
   "metadata": {},
   "outputs": [],
   "source": [
    "train = train.dropna(subset = [\"Product_Category_2\",\"Product_Category_3\"])"
   ]
  },
  {
   "cell_type": "markdown",
   "id": "6de742ae",
   "metadata": {},
   "source": [
    "## 3. How many distinct values per column?"
   ]
  },
  {
   "cell_type": "code",
   "execution_count": 10,
   "id": "c2446095",
   "metadata": {},
   "outputs": [
    {
     "name": "stdout",
     "output_type": "stream",
     "text": [
      "+-------------+\n",
      "|count(Gender)|\n",
      "+-------------+\n",
      "|            2|\n",
      "+-------------+\n",
      "\n",
      "+----------+\n",
      "|count(Age)|\n",
      "+----------+\n",
      "|         7|\n",
      "+----------+\n",
      "\n",
      "+-----------------+\n",
      "|count(Occupation)|\n",
      "+-----------------+\n",
      "|               21|\n",
      "+-----------------+\n",
      "\n",
      "+--------------------+\n",
      "|count(City_Category)|\n",
      "+--------------------+\n",
      "|                   3|\n",
      "+--------------------+\n",
      "\n",
      "+---------------------------------+\n",
      "|count(Stay_In_Current_City_Years)|\n",
      "+---------------------------------+\n",
      "|                                5|\n",
      "+---------------------------------+\n",
      "\n",
      "+---------------------+\n",
      "|count(Marital_Status)|\n",
      "+---------------------+\n",
      "|                    2|\n",
      "+---------------------+\n",
      "\n",
      "+-------------------------+\n",
      "|count(Product_Category_1)|\n",
      "+-------------------------+\n",
      "|                       12|\n",
      "+-------------------------+\n",
      "\n",
      "+-------------------------+\n",
      "|count(Product_Category_2)|\n",
      "+-------------------------+\n",
      "|                       14|\n",
      "+-------------------------+\n",
      "\n",
      "+-------------------------+\n",
      "|count(Product_Category_3)|\n",
      "+-------------------------+\n",
      "|                       15|\n",
      "+-------------------------+\n",
      "\n",
      "+---------------+\n",
      "|count(Purchase)|\n",
      "+---------------+\n",
      "|          13876|\n",
      "+---------------+\n",
      "\n"
     ]
    }
   ],
   "source": [
    "for i in train.columns[2:]:\n",
    "    distinct_counts  = train.agg(F.countDistinct(i))\n",
    "    distinct_counts.show()"
   ]
  },
  {
   "cell_type": "markdown",
   "id": "80d686f9",
   "metadata": {},
   "source": [
    "##  4. Count category values within each of the columns\n",
    "### \"Gender\",\"Age\",\"City_Category\",\"Stay_In_Current_City_Years\",\"Marital_Status\""
   ]
  },
  {
   "cell_type": "code",
   "execution_count": 11,
   "id": "f259b38e",
   "metadata": {},
   "outputs": [
    {
     "name": "stdout",
     "output_type": "stream",
     "text": [
      "+------+------------+\n",
      "|Gender|Gender_count|\n",
      "+------+------------+\n",
      "|     M|      129227|\n",
      "|     F|       37594|\n",
      "+------+------------+\n",
      "\n",
      "+-----+---------+\n",
      "|  Age|Age_count|\n",
      "+-----+---------+\n",
      "|  55+|     5865|\n",
      "|51-55|    11166|\n",
      "|46-50|    13374|\n",
      "|36-45|    33285|\n",
      "|26-35|    66942|\n",
      "|18-25|    31316|\n",
      "| 0-17|     4873|\n",
      "+-----+---------+\n",
      "\n",
      "+-------------+-------------------+\n",
      "|City_Category|City_Category_count|\n",
      "+-------------+-------------------+\n",
      "|            C|              56059|\n",
      "|            B|              69243|\n",
      "|            A|              41519|\n",
      "+-------------+-------------------+\n",
      "\n",
      "+--------------------------+--------------------------------+\n",
      "|Stay_In_Current_City_Years|Stay_In_Current_City_Years_count|\n",
      "+--------------------------+--------------------------------+\n",
      "|                        4+|                           25362|\n",
      "|                         3|                           29268|\n",
      "|                         2|                           31515|\n",
      "|                         1|                           58287|\n",
      "|                         0|                           22389|\n",
      "+--------------------------+--------------------------------+\n",
      "\n",
      "+--------------+--------------------+\n",
      "|Marital_Status|Marital_Status_count|\n",
      "+--------------+--------------------+\n",
      "|             1|               67202|\n",
      "|             0|               99619|\n",
      "+--------------+--------------------+\n",
      "\n"
     ]
    }
   ],
   "source": [
    "categorical_columns = [\"Gender\",\"Age\",\"City_Category\",\"Stay_In_Current_City_Years\",\"Marital_Status\"]\n",
    "for i in categorical_columns:\n",
    "    train.groupBy(i).agg(F.count(i).alias(i +\"_count\")).orderBy(i, ascending = False).show(n = 50)"
   ]
  },
  {
   "cell_type": "markdown",
   "id": "a1306931",
   "metadata": {},
   "source": [
    "##  5. Calculate average Purchase within each of the columns\n",
    "### \"Gender\",\"Age\",\"City_Category\",\"Stay_In_Current_City_Years\",\"Marital_Status\""
   ]
  },
  {
   "cell_type": "code",
   "execution_count": 12,
   "id": "5101334d",
   "metadata": {},
   "outputs": [
    {
     "name": "stdout",
     "output_type": "stream",
     "text": [
      "+------+-------------------+\n",
      "|Gender|Avg_Purchase_Gender|\n",
      "+------+-------------------+\n",
      "|     M|           11824.92|\n",
      "|     F|           11084.72|\n",
      "+------+-------------------+\n",
      "\n",
      "+-----+----------------+\n",
      "|  Age|Avg_Purchase_Age|\n",
      "+-----+----------------+\n",
      "|  55+|        11861.52|\n",
      "|51-55|         12035.5|\n",
      "|46-50|        11663.98|\n",
      "|36-45|        11729.36|\n",
      "|26-35|        11612.25|\n",
      "|18-25|        11580.86|\n",
      "| 0-17|        11172.36|\n",
      "+-----+----------------+\n",
      "\n",
      "+-------------+--------------------------+\n",
      "|City_Category|Avg_Purchase_City_Category|\n",
      "+-------------+--------------------------+\n",
      "|            C|                  12207.52|\n",
      "|            B|                  11488.09|\n",
      "|            A|                  11199.87|\n",
      "+-------------+--------------------------+\n",
      "\n",
      "+--------------------------+---------------------------------------+\n",
      "|Stay_In_Current_City_Years|Avg_Purchase_Stay_In_Current_City_Years|\n",
      "+--------------------------+---------------------------------------+\n",
      "|                        4+|                                11695.3|\n",
      "|                         3|                               11630.24|\n",
      "|                         2|                               11773.22|\n",
      "|                         1|                               11652.93|\n",
      "|                         0|                               11503.93|\n",
      "+--------------------------+---------------------------------------+\n",
      "\n",
      "+--------------+---------------------------+\n",
      "|Marital_Status|Avg_Purchase_Marital_Status|\n",
      "+--------------+---------------------------+\n",
      "|             1|                    11686.6|\n",
      "|             0|                    11638.9|\n",
      "+--------------+---------------------------+\n",
      "\n"
     ]
    }
   ],
   "source": [
    "for i in categorical_columns:\n",
    "    train.groupBy(i).agg(F.round(F.sum(\"Purchase\")/F.count(i),2).alias(\"Avg_Purchase_\"+i)).orderBy(i, ascending = False).show(n = 50)"
   ]
  },
  {
   "cell_type": "markdown",
   "id": "f7133850",
   "metadata": {},
   "source": [
    "##  6. Label encode the following columns\n",
    "### Age, Gender, Stay_In_Current_City_Years, City_Category"
   ]
  },
  {
   "cell_type": "code",
   "execution_count": 13,
   "id": "d262b4fd",
   "metadata": {},
   "outputs": [],
   "source": [
    "SI_Age = StringIndexer(inputCol=\"Age\",outputCol=\"Age_le\")\n",
    "SI_Gender = StringIndexer(inputCol=\"Gender\",outputCol=\"Gender_le\")\n",
    "SI_City_Years = StringIndexer(inputCol=\"Stay_In_Current_City_Years\",outputCol=\"Stay_In_Current_City_Years_le\")\n",
    "SI_City_Category= StringIndexer(inputCol=\"City_Category\",outputCol=\"City_Category_le\")"
   ]
  },
  {
   "cell_type": "code",
   "execution_count": 14,
   "id": "825a8f03",
   "metadata": {},
   "outputs": [
    {
     "name": "stdout",
     "output_type": "stream",
     "text": [
      "root\n",
      " |-- User_ID: integer (nullable = true)\n",
      " |-- Product_ID: string (nullable = true)\n",
      " |-- Gender: string (nullable = true)\n",
      " |-- Age: string (nullable = true)\n",
      " |-- Occupation: integer (nullable = true)\n",
      " |-- City_Category: string (nullable = true)\n",
      " |-- Stay_In_Current_City_Years: string (nullable = true)\n",
      " |-- Marital_Status: integer (nullable = true)\n",
      " |-- Product_Category_1: integer (nullable = true)\n",
      " |-- Product_Category_2: integer (nullable = true)\n",
      " |-- Product_Category_3: integer (nullable = true)\n",
      " |-- Purchase: integer (nullable = true)\n",
      "\n"
     ]
    }
   ],
   "source": [
    "train.printSchema()"
   ]
  },
  {
   "cell_type": "code",
   "execution_count": 15,
   "id": "331dc833",
   "metadata": {},
   "outputs": [],
   "source": [
    "SI_Age_OBJ = SI_Age.fit(train)\n",
    "SI_Gender_OBJ = SI_Gender.fit(train)\n",
    "SI_City_Years_OBJ = SI_City_Years.fit(train)\n",
    "SI_City_Category_OBJ = SI_City_Category.fit(train) "
   ]
  },
  {
   "cell_type": "code",
   "execution_count": 16,
   "id": "45fcba2d",
   "metadata": {},
   "outputs": [],
   "source": [
    "train_encoded = SI_Age_OBJ.transform(train)\n",
    "train_encoded = SI_Gender_OBJ.transform(train_encoded)\n",
    "train_encoded = SI_City_Years_OBJ.transform(train_encoded)\n",
    "train_encoded = SI_City_Category_OBJ.transform(train_encoded)"
   ]
  },
  {
   "cell_type": "markdown",
   "id": "cf4d0bc4",
   "metadata": {},
   "source": [
    "##  7. One-Hot encode following columns:\n",
    "### Gender, City_Category, Occupation"
   ]
  },
  {
   "cell_type": "code",
   "execution_count": 17,
   "id": "6a2db14d",
   "metadata": {},
   "outputs": [],
   "source": [
    "OHE_cat = OneHotEncoder(inputCols = [\"Gender_le\",\"City_Category_le\",\"Occupation\"],outputCols=[\"Gender_ohe\",\"City_Category_ohe\",\"Occupation_ohe\"])"
   ]
  },
  {
   "cell_type": "code",
   "execution_count": 18,
   "id": "3a1b93bc",
   "metadata": {},
   "outputs": [],
   "source": [
    "OHE_cat_OBJ = OHE_cat.fit(train_encoded)"
   ]
  },
  {
   "cell_type": "code",
   "execution_count": 19,
   "id": "3b78b65f",
   "metadata": {},
   "outputs": [],
   "source": [
    "train_encoded = OHE_cat_OBJ.transform(train_encoded)"
   ]
  },
  {
   "cell_type": "code",
   "execution_count": 20,
   "id": "8c65bf23",
   "metadata": {},
   "outputs": [],
   "source": [
    "selected_features = [\"Gender_ohe\", \"Age_le\", \"Occupation_ohe\", \"City_Category_le\",\"Stay_In_Current_City_Years_le\",\"Marital_Status\",\"Product_Category_1\",\"Product_Category_2\",\"Product_Category_3\"]"
   ]
  },
  {
   "cell_type": "code",
   "execution_count": 21,
   "id": "e72ce1b0",
   "metadata": {},
   "outputs": [],
   "source": [
    "assembler = VectorAssembler(inputCols= selected_features, outputCol = \"feature_vector\")"
   ]
  },
  {
   "cell_type": "code",
   "execution_count": 22,
   "id": "43d399c0",
   "metadata": {},
   "outputs": [],
   "source": [
    "train_encoded = assembler.transform(train_encoded)"
   ]
  },
  {
   "cell_type": "code",
   "execution_count": 23,
   "id": "b9661762",
   "metadata": {},
   "outputs": [
    {
     "name": "stdout",
     "output_type": "stream",
     "text": [
      "+--------------------+\n",
      "|      feature_vector|\n",
      "+--------------------+\n",
      "|(28,[1,12,22,23,2...|\n",
      "|(28,[0,1,9,23,24,...|\n",
      "|(28,[0,22,24,25,2...|\n",
      "|(28,[1,11,22,25,2...|\n",
      "|(28,[1,11,22,25,2...|\n",
      "|(28,[0,1,3,24,25,...|\n",
      "|(28,[0,14,22,23,2...|\n",
      "|(28,[0,14,22,23,2...|\n",
      "|(28,[0,19,22,23,2...|\n",
      "|(28,[1,3,23,24,25...|\n",
      "|(28,[1,3,23,24,25...|\n",
      "|(28,[1,3,23,24,25...|\n",
      "|(28,[1,3,23,24,25...|\n",
      "|(28,[1,3,23,24,25...|\n",
      "|(28,[1,3,23,24,25...|\n",
      "|(28,[1,3,23,24,25...|\n",
      "|(28,[1,3,23,24,25...|\n",
      "|(28,[3,22,25,26,2...|\n",
      "|(28,[0,1,3,22,23,...|\n",
      "|(28,[0,9,22,25,26...|\n",
      "+--------------------+\n",
      "only showing top 20 rows\n",
      "\n"
     ]
    }
   ],
   "source": [
    "train_encoded.select(\"feature_vector\").show()"
   ]
  },
  {
   "cell_type": "markdown",
   "id": "d942d0c8",
   "metadata": {},
   "source": [
    "## 8. Build a baseline model using any of the ML algorithms - LinearRegressor"
   ]
  },
  {
   "cell_type": "code",
   "execution_count": 24,
   "id": "589e3e68",
   "metadata": {},
   "outputs": [],
   "source": [
    "model = LinearRegression(featuresCol=\"feature_vector\", labelCol=\"Purchase\")\n",
    "model_linear = model.fit(train_encoded)"
   ]
  },
  {
   "cell_type": "code",
   "execution_count": 25,
   "id": "56427b20",
   "metadata": {},
   "outputs": [],
   "source": [
    "evaluator = RegressionEvaluator(labelCol=\"Purchase\", metricName='r2')\n",
    "evaluator_mae = RegressionEvaluator(labelCol=\"Purchase\", metricName='mae')\n",
    "evaluator_mse = RegressionEvaluator(labelCol=\"Purchase\", metricName='mse')\n",
    "evaluator_rmse = RegressionEvaluator(labelCol=\"Purchase\", metricName='rmse')"
   ]
  },
  {
   "cell_type": "code",
   "execution_count": 26,
   "id": "41580484",
   "metadata": {},
   "outputs": [
    {
     "data": {
      "text/plain": [
       "0.16624938335224082"
      ]
     },
     "execution_count": 26,
     "metadata": {},
     "output_type": "execute_result"
    }
   ],
   "source": [
    "evaluator.evaluate(model_linear.transform(train_encoded))"
   ]
  },
  {
   "cell_type": "code",
   "execution_count": 27,
   "id": "4a74a7b6",
   "metadata": {},
   "outputs": [
    {
     "data": {
      "text/plain": [
       "3731.194026455879"
      ]
     },
     "execution_count": 27,
     "metadata": {},
     "output_type": "execute_result"
    }
   ],
   "source": [
    "evaluator_mae.evaluate(model_linear.transform(train_encoded))\n",
    "#3731.194026455879"
   ]
  },
  {
   "cell_type": "code",
   "execution_count": 28,
   "id": "e0e5d1c4",
   "metadata": {},
   "outputs": [
    {
     "data": {
      "text/plain": [
       "21535358.27117582"
      ]
     },
     "execution_count": 28,
     "metadata": {},
     "output_type": "execute_result"
    }
   ],
   "source": [
    "evaluator_mse.evaluate(model_linear.transform(train_encoded))\n",
    "#21535358.27117582"
   ]
  },
  {
   "cell_type": "code",
   "execution_count": 29,
   "id": "7e36f70a",
   "metadata": {},
   "outputs": [
    {
     "data": {
      "text/plain": [
       "4640.620461875311"
      ]
     },
     "execution_count": 29,
     "metadata": {},
     "output_type": "execute_result"
    }
   ],
   "source": [
    "evaluator_rmse.evaluate(model_linear.transform(train_encoded))\n",
    "#4640.620461875311"
   ]
  },
  {
   "cell_type": "markdown",
   "id": "8a7cc61d",
   "metadata": {},
   "source": [
    "## 9. Model improvement with Grid-Search CV"
   ]
  },
  {
   "cell_type": "code",
   "execution_count": 30,
   "id": "a8b9df78",
   "metadata": {},
   "outputs": [],
   "source": [
    "model_lr = LinearRegression(featuresCol=\"feature_vector\", labelCol=\"Purchase\")\n",
    "paramGrid = ParamGridBuilder().addGrid(model_lr.maxIter, [10, 50, 100]) \\\n",
    "                              .addGrid(model_lr.regParam, [0.1, 0.01, 0.001]) \\\n",
    "                              .addGrid(model_lr.elasticNetParam, [0.0, 0.5, 1.0]) \\\n",
    "                              .build()\n",
    "cv = CrossValidator(estimator = model_lr,\n",
    "                   estimatorParamMaps=paramGrid,\n",
    "                   evaluator = evaluator,\n",
    "                   numFolds = 5,\n",
    "                   seed = 123)"
   ]
  },
  {
   "cell_type": "code",
   "execution_count": 31,
   "id": "2e933194",
   "metadata": {},
   "outputs": [],
   "source": [
    "grid_model = cv.fit(train_encoded)"
   ]
  },
  {
   "cell_type": "code",
   "execution_count": 32,
   "id": "a6f99e18",
   "metadata": {},
   "outputs": [],
   "source": [
    "param_dict = grid_model.bestModel.extractParamMap()"
   ]
  },
  {
   "cell_type": "code",
   "execution_count": 33,
   "id": "97fa046f",
   "metadata": {},
   "outputs": [],
   "source": [
    "final_dict = {}\n",
    "for k, v in param_dict.items():\n",
    "    final_dict[k.name] = v"
   ]
  },
  {
   "cell_type": "code",
   "execution_count": 34,
   "id": "01a6a289",
   "metadata": {},
   "outputs": [
    {
     "data": {
      "text/plain": [
       "{'aggregationDepth': 2,\n",
       " 'elasticNetParam': 1.0,\n",
       " 'epsilon': 1.35,\n",
       " 'featuresCol': 'feature_vector',\n",
       " 'fitIntercept': True,\n",
       " 'labelCol': 'Purchase',\n",
       " 'loss': 'squaredError',\n",
       " 'maxBlockSizeInMB': 0.0,\n",
       " 'maxIter': 50,\n",
       " 'predictionCol': 'prediction',\n",
       " 'regParam': 0.1,\n",
       " 'solver': 'auto',\n",
       " 'standardization': True,\n",
       " 'tol': 1e-06}"
      ]
     },
     "execution_count": 34,
     "metadata": {},
     "output_type": "execute_result"
    }
   ],
   "source": [
    "final_dict"
   ]
  },
  {
   "cell_type": "code",
   "execution_count": 35,
   "id": "34cbfac3",
   "metadata": {},
   "outputs": [
    {
     "data": {
      "text/plain": [
       "0.16624929626104124"
      ]
     },
     "execution_count": 35,
     "metadata": {},
     "output_type": "execute_result"
    }
   ],
   "source": [
    "evaluator.evaluate(grid_model.transform(train_encoded))"
   ]
  },
  {
   "cell_type": "markdown",
   "id": "a057e68f",
   "metadata": {},
   "source": [
    "## 10.Create a Spark ML Pipeline for the final model.\n",
    "### Assignment_MLPipeline.ipynb"
   ]
  },
  {
   "cell_type": "code",
   "execution_count": null,
   "id": "f89a8c24",
   "metadata": {},
   "outputs": [],
   "source": []
  }
 ],
 "metadata": {
  "kernelspec": {
   "display_name": "Pyspark 3",
   "language": "python",
   "name": "pyspark3"
  },
  "language_info": {
   "codemirror_mode": {
    "name": "ipython",
    "version": 3
   },
   "file_extension": ".py",
   "mimetype": "text/x-python",
   "name": "python",
   "nbconvert_exporter": "python",
   "pygments_lexer": "ipython3",
   "version": "3.6.12"
  }
 },
 "nbformat": 4,
 "nbformat_minor": 5
}
