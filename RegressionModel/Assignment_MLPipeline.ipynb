{
 "cells": [
  {
   "cell_type": "code",
   "execution_count": 1,
   "id": "90af1b7e",
   "metadata": {},
   "outputs": [],
   "source": [
    "import pyspark.sql.functions as F\n",
    "from pyspark.sql import types as tp\n",
    "from pyspark.sql import SparkSession\n",
    "from pyspark.ml.regression import DecisionTreeRegressor, RandomForestRegressor, LinearRegression\n",
    "from pyspark.ml.tuning import CrossValidator, ParamGridBuilder\n",
    "from pyspark.ml.evaluation import BinaryClassificationEvaluator, RegressionEvaluator\n",
    "from pyspark.ml.feature import StringIndexer, OneHotEncoder, VectorAssembler\n",
    "from pyspark.ml import Pipeline, Transformer"
   ]
  },
  {
   "cell_type": "code",
   "execution_count": 2,
   "id": "1c424683",
   "metadata": {},
   "outputs": [
    {
     "data": {
      "text/html": [
       "\n",
       "            <div>\n",
       "                <p><b>SparkSession - in-memory</b></p>\n",
       "                \n",
       "        <div>\n",
       "            <p><b>SparkContext</b></p>\n",
       "\n",
       "            <p><a href=\"http://g01.itversity.com:4046\">Spark UI</a></p>\n",
       "\n",
       "            <dl>\n",
       "              <dt>Version</dt>\n",
       "                <dd><code>v3.1.2</code></dd>\n",
       "              <dt>Master</dt>\n",
       "                <dd><code>yarn</code></dd>\n",
       "              <dt>AppName</dt>\n",
       "                <dd><code>pyspark-shell</code></dd>\n",
       "            </dl>\n",
       "        </div>\n",
       "        \n",
       "            </div>\n",
       "        "
      ],
      "text/plain": [
       "<pyspark.sql.session.SparkSession at 0x7f85b61840b8>"
      ]
     },
     "execution_count": 2,
     "metadata": {},
     "output_type": "execute_result"
    }
   ],
   "source": [
    "spark = SparkSession.builder.config(\"spark.sql.shuffle.partitions\", \"200\").config(\"spark.executor.memory\", \"4g\").config(\"master\", \"yarn\").getOrCreate()\n",
    "spark"
   ]
  },
  {
   "cell_type": "code",
   "execution_count": 3,
   "id": "c436186c",
   "metadata": {},
   "outputs": [],
   "source": [
    "train = spark.read.csv(\"ml/train.csv\",header = True, inferSchema=True)\n",
    "test = spark.read.csv(\"ml/test.csv\",header = True, inferSchema=True)"
   ]
  },
  {
   "cell_type": "code",
   "execution_count": 4,
   "id": "8842a321",
   "metadata": {},
   "outputs": [
    {
     "name": "stdout",
     "output_type": "stream",
     "text": [
      "root\n",
      " |-- User_ID: integer (nullable = true)\n",
      " |-- Product_ID: string (nullable = true)\n",
      " |-- Gender: string (nullable = true)\n",
      " |-- Age: string (nullable = true)\n",
      " |-- Occupation: integer (nullable = true)\n",
      " |-- City_Category: string (nullable = true)\n",
      " |-- Stay_In_Current_City_Years: string (nullable = true)\n",
      " |-- Marital_Status: integer (nullable = true)\n",
      " |-- Product_Category_1: integer (nullable = true)\n",
      " |-- Product_Category_2: integer (nullable = true)\n",
      " |-- Product_Category_3: integer (nullable = true)\n",
      " |-- Purchase: integer (nullable = true)\n",
      "\n"
     ]
    }
   ],
   "source": [
    "train.printSchema()"
   ]
  },
  {
   "cell_type": "markdown",
   "id": "19120588",
   "metadata": {},
   "source": [
    "### Stages: Draft\n",
    "stage0: find na and drop null values \n",
    "\n",
    "stage1 : label encode Age \n",
    "\n",
    "stage2:  label encode Gender \n",
    "\n",
    "stage3: Label encode Stay_In_Current_City_Years \n",
    "\n",
    "stage4: Lable encode City_Category \n",
    "\n",
    "stage5: onehot encode Gender,City,Occupation \n",
    "\n",
    "stage6: vectorize the columns-\n",
    "Gender_ohe,Age_le,Occupation_ohe,City_Category_le,Stay_In_Current_City_Years_le,Marital_Status,Product_Category_1,Product_Category_2,Product_Category_3\n",
    "\n",
    "step7: Baseline ML model(DecisionTreeRegressor) \n",
    "\n",
    "step8: Model Improvement with GridSearchCV"
   ]
  },
  {
   "cell_type": "code",
   "execution_count": 5,
   "id": "92440143",
   "metadata": {},
   "outputs": [],
   "source": [
    "class removeNulls(Transformer):\n",
    "    def __init__(self,x = None):\n",
    "        self.dataset = x\n",
    "    def _transform(self,dataset):\n",
    "        dataset = dataset.dropna(subset = [\"Product_Category_2\",\"Product_Category_3\"])\n",
    "        return dataset"
   ]
  },
  {
   "cell_type": "code",
   "execution_count": 6,
   "id": "1e7a9119",
   "metadata": {},
   "outputs": [],
   "source": [
    "selected_features = [\"Gender_ohe\", \"Age_le\", \"Occupation_ohe\", \"City_Category_le\",\"Stay_In_Current_City_Years_le\",\"Marital_Status\",\"Product_Category_1\",\"Product_Category_2\",\"Product_Category_3\"]"
   ]
  },
  {
   "cell_type": "code",
   "execution_count": 7,
   "id": "a426b2ed",
   "metadata": {},
   "outputs": [],
   "source": [
    "stage1 = removeNulls()\n",
    "stage2 = StringIndexer(inputCol=\"Age\",outputCol=\"Age_le\")\n",
    "stage3 = StringIndexer(inputCol=\"Gender\",outputCol=\"Gender_le\")\n",
    "stage4 = StringIndexer(inputCol=\"Stay_In_Current_City_Years\",outputCol=\"Stay_In_Current_City_Years_le\")\n",
    "stage5 = StringIndexer(inputCol=\"City_Category\",outputCol=\"City_Category_le\")\n",
    "stage6 = OneHotEncoder(inputCols = [\"Gender_le\",\"City_Category_le\",\"Occupation\"] \n",
    "                       ,outputCols=[\"Gender_ohe\",\"City_Category_ohe\",\"Occupation_ohe\"])\n",
    "stage7 = VectorAssembler(inputCols= selected_features, outputCol = \"feature_vector\")\n",
    "stage8 = LinearRegression(featuresCol=\"feature_vector\", labelCol= \"Purchase\")"
   ]
  },
  {
   "cell_type": "code",
   "execution_count": 9,
   "id": "2adfd76c",
   "metadata": {},
   "outputs": [],
   "source": [
    "pipeline = Pipeline(stages = [stage1,\n",
    "                           stage2,\n",
    "                           stage3,\n",
    "                           stage4,\n",
    "                           stage5,\n",
    "                           stage6,\n",
    "                           stage7,\n",
    "                           stage8])\n",
    "\n",
    "pipeline_model = pipeline.fit(train)\n",
    "final_data = pipeline_model.transform(train)"
   ]
  },
  {
   "cell_type": "code",
   "execution_count": 13,
   "id": "99e6b69d",
   "metadata": {},
   "outputs": [
    {
     "name": "stdout",
     "output_type": "stream",
     "text": [
      "root\n",
      " |-- User_ID: integer (nullable = true)\n",
      " |-- Product_ID: string (nullable = true)\n",
      " |-- Gender: string (nullable = true)\n",
      " |-- Age: string (nullable = true)\n",
      " |-- Occupation: integer (nullable = true)\n",
      " |-- City_Category: string (nullable = true)\n",
      " |-- Stay_In_Current_City_Years: string (nullable = true)\n",
      " |-- Marital_Status: integer (nullable = true)\n",
      " |-- Product_Category_1: integer (nullable = true)\n",
      " |-- Product_Category_2: integer (nullable = true)\n",
      " |-- Product_Category_3: integer (nullable = true)\n",
      " |-- Purchase: integer (nullable = true)\n",
      " |-- Age_le: double (nullable = false)\n",
      " |-- Gender_le: double (nullable = false)\n",
      " |-- Stay_In_Current_City_Years_le: double (nullable = false)\n",
      " |-- City_Category_le: double (nullable = false)\n",
      " |-- Gender_ohe: vector (nullable = true)\n",
      " |-- City_Category_ohe: vector (nullable = true)\n",
      " |-- Occupation_ohe: vector (nullable = true)\n",
      " |-- feature_vector: vector (nullable = true)\n",
      " |-- prediction: double (nullable = false)\n",
      "\n"
     ]
    }
   ],
   "source": [
    "final_data.printSchema()"
   ]
  },
  {
   "cell_type": "code",
   "execution_count": 15,
   "id": "2cd9d0fa",
   "metadata": {},
   "outputs": [
    {
     "name": "stdout",
     "output_type": "stream",
     "text": [
      "root\n",
      " |-- User_ID: integer (nullable = true)\n",
      " |-- Product_ID: string (nullable = true)\n",
      " |-- Gender: string (nullable = true)\n",
      " |-- Age: string (nullable = true)\n",
      " |-- Occupation: integer (nullable = true)\n",
      " |-- City_Category: string (nullable = true)\n",
      " |-- Stay_In_Current_City_Years: string (nullable = true)\n",
      " |-- Marital_Status: integer (nullable = true)\n",
      " |-- Product_Category_1: integer (nullable = true)\n",
      " |-- Product_Category_2: integer (nullable = true)\n",
      " |-- Product_Category_3: integer (nullable = true)\n",
      " |-- Age_le: double (nullable = false)\n",
      " |-- Gender_le: double (nullable = false)\n",
      " |-- Stay_In_Current_City_Years_le: double (nullable = false)\n",
      " |-- City_Category_le: double (nullable = false)\n",
      " |-- Gender_ohe: vector (nullable = true)\n",
      " |-- City_Category_ohe: vector (nullable = true)\n",
      " |-- Occupation_ohe: vector (nullable = true)\n",
      " |-- feature_vector: vector (nullable = true)\n",
      " |-- prediction: double (nullable = false)\n",
      "\n"
     ]
    }
   ],
   "source": [
    "test_data = pipeline_model.transform(test)\n",
    "test_data.printSchema()"
   ]
  }
 ],
 "metadata": {
  "kernelspec": {
   "display_name": "Pyspark 3",
   "language": "python",
   "name": "pyspark3"
  },
  "language_info": {
   "codemirror_mode": {
    "name": "ipython",
    "version": 3
   },
   "file_extension": ".py",
   "mimetype": "text/x-python",
   "name": "python",
   "nbconvert_exporter": "python",
   "pygments_lexer": "ipython3",
   "version": "3.6.12"
  }
 },
 "nbformat": 4,
 "nbformat_minor": 5
}
